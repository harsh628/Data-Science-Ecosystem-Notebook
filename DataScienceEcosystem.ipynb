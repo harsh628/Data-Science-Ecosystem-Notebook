{
  "nbformat": 4,
  "nbformat_minor": 0,
  "metadata": {
    "colab": {
      "provenance": [],
      "toc_visible": true,
      "authorship_tag": "ABX9TyO33nrT3M6P8XsJG7T+L6fM",
      "include_colab_link": true
    },
    "kernelspec": {
      "name": "python3",
      "display_name": "Python 3"
    },
    "language_info": {
      "name": "python"
    }
  },
  "cells": [
    {
      "cell_type": "markdown",
      "metadata": {
        "id": "view-in-github",
        "colab_type": "text"
      },
      "source": [
        "<a href=\"https://colab.research.google.com/github/harsh628/Data-Science-Ecosystem-Notebook/blob/main/DataScienceEcosystem.ipynb\" target=\"_parent\"><img src=\"https://colab.research.google.com/assets/colab-badge.svg\" alt=\"Open In Colab\"/></a>"
      ]
    },
    {
      "cell_type": "markdown",
      "source": [
        "## Author\n",
        "\n",
        "Harsh Aggarwal"
      ],
      "metadata": {
        "id": "hLMlm2_LA72J"
      }
    },
    {
      "cell_type": "markdown",
      "source": [
        "# Data Science Tools and Ecosystem"
      ],
      "metadata": {
        "id": "_WSLXqGJr5y7"
      }
    },
    {
      "cell_type": "markdown",
      "source": [
        "In this notebook, Data Science Tools and Ecosystem are summarized."
      ],
      "metadata": {
        "id": "MuJhi_UytXpP"
      }
    },
    {
      "cell_type": "markdown",
      "source": [
        "**Objectives:**\n",
        "\n",
        "- List popular languages for Data Science\n",
        "- Identify commonly used libraries by Data Scientists\n",
        "- Create and format tables in markdown\n",
        "- Perform arithmetic operations in code cells\n",
        "- Convert minutes to hours using Python expressions\n"
      ],
      "metadata": {
        "id": "UcqEhyuKAZF3"
      }
    },
    {
      "cell_type": "markdown",
      "source": [
        "Some of the popular languages that Data Scientists use are:\n",
        "\n",
        "\n",
        "1.   Python\n",
        "2.   R\n",
        "3.   SQL\n",
        "\n"
      ],
      "metadata": {
        "id": "5VzMNCZDuJ1u"
      }
    },
    {
      "cell_type": "markdown",
      "source": [
        "Some of the commonly used libraries used by Data Scientists include:\n",
        "\n",
        "\n",
        "1.  Pandas – For data manipulation and analysis using DataFrames.\n",
        "\n",
        "2.  NumPy – For numerical computations and array operations.\n",
        "\n",
        "3.  Scikit-learn – For machine learning algorithms and model evaluation.\n",
        "\n",
        "4.  Matplotlib – For creating static, animated, and interactive visualizations.\n",
        "\n",
        "5.  TensorFlow – For building and training deep learning models.  \n",
        "\n"
      ],
      "metadata": {
        "id": "oKgf5OgtuxHg"
      }
    },
    {
      "cell_type": "markdown",
      "source": [
        "| Data Science Tools     |\n",
        "|------------------------|\n",
        "| Jupyter Notebook       |\n",
        "| VS Code                |\n",
        "| RStudio                |\n"
      ],
      "metadata": {
        "id": "mI1QABT8v3-Z"
      }
    },
    {
      "cell_type": "markdown",
      "source": [
        "### Below are a few examples of evaluating arithmetic expressions in Python"
      ],
      "metadata": {
        "id": "ubhNrynY8qs0"
      }
    },
    {
      "cell_type": "code",
      "source": [
        "# This a simple arithmetic expression to mutiply then add integers\n",
        "result = (3 * 4) + 5\n",
        "print(result)"
      ],
      "metadata": {
        "colab": {
          "base_uri": "https://localhost:8080/"
        },
        "id": "095wa1W08sun",
        "outputId": "11ac6602-1d07-4b96-c2a7-f87bc0c64116"
      },
      "execution_count": 1,
      "outputs": [
        {
          "output_type": "stream",
          "name": "stdout",
          "text": [
            "17\n"
          ]
        }
      ]
    },
    {
      "cell_type": "code",
      "source": [
        "# This will convert 200 minutes to hours by diving by 60\n",
        "minutes = 200\n",
        "hours = minutes / 60\n",
        "hours=round(hours, 2)\n",
        "print(f'{hours} Hours')"
      ],
      "metadata": {
        "colab": {
          "base_uri": "https://localhost:8080/"
        },
        "id": "BQj6znjH-0br",
        "outputId": "4ef067b7-9358-4236-9ee4-e80558d1df5a"
      },
      "execution_count": 9,
      "outputs": [
        {
          "output_type": "stream",
          "name": "stdout",
          "text": [
            "3.33 Hours\n"
          ]
        }
      ]
    }
  ]
}